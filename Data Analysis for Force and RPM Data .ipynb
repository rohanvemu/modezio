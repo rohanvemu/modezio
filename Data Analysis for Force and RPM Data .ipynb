{
 "cells": [
  {
   "cell_type": "code",
   "execution_count": 79,
   "metadata": {},
   "outputs": [],
   "source": [
    "import numpy as np\n",
    "import matplotlib.pyplot as plt\n",
    "import pandas as pd \n",
    "from scipy import stats\n",
    "from statsmodels.stats.multicomp import pairwise_tukeyhsd"
   ]
  },
  {
   "cell_type": "code",
   "execution_count": 86,
   "metadata": {},
   "outputs": [],
   "source": [
    "data_RPM = pd.read_excel(\"RPM_exit.xlsx\")\n",
    "data_force = pd.read_excel(\"Force_exit.xlsx\")"
   ]
  },
  {
   "cell_type": "code",
   "execution_count": 87,
   "metadata": {},
   "outputs": [
    {
     "name": "stdout",
     "output_type": "stream",
     "text": [
      "F_onewayResult(statistic=102.03055202966232, pvalue=7.710897115509466e-20)\n"
     ]
    }
   ],
   "source": [
    "print(stats.f_oneway(data_RPM[\"Air/Muscle\"], data_RPM[\"Bone \"], data_RPM[\"Bone Marrow\"], data_RPM[\"Bone exit\"]))"
   ]
  },
  {
   "cell_type": "code",
   "execution_count": 88,
   "metadata": {},
   "outputs": [],
   "source": [
    "am_array = np.array(data_RPM[\"Air/Muscle\"])\n",
    "am_list = am_array.tolist()\n",
    "\n",
    "bone_array = np.array(data_RPM[\"Bone \"])\n",
    "bone_list = bone_array.tolist()\n",
    "\n",
    "bonemar_array = np.array(data_RPM[\"Bone Marrow\"])\n",
    "bonemar_list = bonemar_array.tolist()\n",
    "\n",
    "exit_array = np.array(data_RPM[\"Bone exit\"])\n",
    "exit_list = exit_array.tolist()\n",
    "\n",
    "mega_list = []\n",
    "mega_list = am_list + bone_list + bonemar_list + exit_list"
   ]
  },
  {
   "cell_type": "code",
   "execution_count": 89,
   "metadata": {},
   "outputs": [
    {
     "name": "stdout",
     "output_type": "stream",
     "text": [
      "       Multiple Comparison of Means - Tukey HSD, FWER=0.05        \n",
      "==================================================================\n",
      "  group1      group2    meandiff p-adj    lower     upper   reject\n",
      "------------------------------------------------------------------\n",
      "Air/Muscle        Bone -112.4167  0.001 -136.2737  -88.5597   True\n",
      "Air/Muscle   Bone Exit -135.5833  0.001 -159.4403 -111.7263   True\n",
      "Air/Muscle Bone Marrow  -35.0833 0.0016  -58.9403  -11.2263   True\n",
      "      Bone   Bone Exit  -23.1667 0.0599  -47.0237    0.6903  False\n",
      "      Bone Bone Marrow   77.3333  0.001   53.4763  101.1903   True\n",
      " Bone Exit Bone Marrow     100.5  0.001    76.643   124.357   True\n",
      "------------------------------------------------------------------\n"
     ]
    }
   ],
   "source": [
    "df = pd.DataFrame({'score': mega_list,\n",
    "                   'group': np.repeat(['Air/Muscle', 'Bone', 'Bone Marrow', 'Bone Exit'], repeats=12)}) \n",
    "\n",
    "# perform Tukey's test\n",
    "tukey = pairwise_tukeyhsd(endog=df['score'],\n",
    "                          groups=df['group'],\n",
    "                          alpha=0.05)\n",
    "\n",
    "#display results\n",
    "print(tukey)"
   ]
  },
  {
   "cell_type": "code",
   "execution_count": 90,
   "metadata": {},
   "outputs": [
    {
     "name": "stdout",
     "output_type": "stream",
     "text": [
      "F_onewayResult(statistic=131.32722912948756, pvalue=5.0358551459381755e-15)\n"
     ]
    }
   ],
   "source": [
    "print(stats.f_oneway(data_force[\"Air/Muscle\"][0:7], data_force[\"Bone \"][0:7], data_force[\"Bone Marrow\"][0:7], data_force[\"Bone exit\"][0:7]))"
   ]
  },
  {
   "cell_type": "code",
   "execution_count": 91,
   "metadata": {},
   "outputs": [
    {
     "name": "stdout",
     "output_type": "stream",
     "text": [
      "        Multiple Comparison of Means - Tukey HSD, FWER=0.05         \n",
      "====================================================================\n",
      "  group1      group2    meandiff p-adj    lower      upper    reject\n",
      "--------------------------------------------------------------------\n",
      "Air/Muscle        Bone  6057.625  0.001  5172.2917  6942.9583   True\n",
      "Air/Muscle   Bone Exit   5336.25  0.001  4450.9167  6221.5833   True\n",
      "Air/Muscle Bone Marrow   1959.75  0.001  1074.4167  2845.0833   True\n",
      "      Bone   Bone Exit  -721.375 0.1412 -1606.7083   163.9583  False\n",
      "      Bone Bone Marrow -4097.875  0.001 -4983.2083 -3212.5417   True\n",
      " Bone Exit Bone Marrow   -3376.5  0.001 -4261.8333 -2491.1667   True\n",
      "--------------------------------------------------------------------\n"
     ]
    }
   ],
   "source": [
    "am_array = np.array(data_force[\"Air/Muscle\"][0:8])\n",
    "am_list = am_array.tolist()\n",
    "\n",
    "bone_array = np.array(data_force[\"Bone \"][0:8])\n",
    "bone_list = bone_array.tolist()\n",
    "\n",
    "bonemar_array = np.array(data_force[\"Bone Marrow\"][0:8])\n",
    "bonemar_list = bonemar_array.tolist()\n",
    "\n",
    "exit_array = np.array(data_force[\"Bone exit\"][0:8])\n",
    "exit_list = exit_array.tolist()\n",
    "\n",
    "mega_list = []\n",
    "mega_list = am_list + bone_list + bonemar_list + exit_list\n",
    "\n",
    "df = pd.DataFrame({'score': mega_list,\n",
    "                   'group': np.repeat(['Air/Muscle', 'Bone', 'Bone Marrow', 'Bone Exit'], repeats=8)}) \n",
    "\n",
    "# perform Tukey's test\n",
    "tukey = pairwise_tukeyhsd(endog=df['score'],\n",
    "                          groups=df['group'],\n",
    "                          alpha=0.05)\n",
    "\n",
    "#display results\n",
    "print(tukey)"
   ]
  },
  {
   "cell_type": "code",
   "execution_count": null,
   "metadata": {},
   "outputs": [],
   "source": []
  },
  {
   "cell_type": "code",
   "execution_count": null,
   "metadata": {},
   "outputs": [],
   "source": []
  },
  {
   "cell_type": "code",
   "execution_count": null,
   "metadata": {},
   "outputs": [],
   "source": []
  }
 ],
 "metadata": {
  "kernelspec": {
   "display_name": "Python 3",
   "language": "python",
   "name": "python3"
  },
  "language_info": {
   "codemirror_mode": {
    "name": "ipython",
    "version": 3
   },
   "file_extension": ".py",
   "mimetype": "text/x-python",
   "name": "python",
   "nbconvert_exporter": "python",
   "pygments_lexer": "ipython3",
   "version": "3.7.4"
  },
  "varInspector": {
   "cols": {
    "lenName": 16,
    "lenType": 16,
    "lenVar": 40
   },
   "kernels_config": {
    "python": {
     "delete_cmd_postfix": "",
     "delete_cmd_prefix": "del ",
     "library": "var_list.py",
     "varRefreshCmd": "print(var_dic_list())"
    },
    "r": {
     "delete_cmd_postfix": ") ",
     "delete_cmd_prefix": "rm(",
     "library": "var_list.r",
     "varRefreshCmd": "cat(var_dic_list()) "
    }
   },
   "types_to_exclude": [
    "module",
    "function",
    "builtin_function_or_method",
    "instance",
    "_Feature"
   ],
   "window_display": false
  }
 },
 "nbformat": 4,
 "nbformat_minor": 2
}
